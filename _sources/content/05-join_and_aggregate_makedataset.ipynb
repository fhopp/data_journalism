{
 "cells": [
  {
   "cell_type": "markdown",
   "metadata": {},
   "source": [
    "# 5. Python Data Wrangling II\n",
    "\n",
    "*Frederic Hopp and Penny Sheets*\n",
    "\n",
    "This notebook outlines the retrieval and preprocessing steps we did to construct the files for our examples.\n",
    "Thus, this notebook contains the steps\n",
    "\n",
    "- (1) Retrieval\n",
    "- (2) Preprocessing,\n",
    "\n",
    "while the other notebook contains the steps\n",
    "\n",
    "- (3) Enrichment\n",
    "- (4) Analysis\n",
    "\n",
    "## EXTRA: How did we prepare the dataset?"
   ]
  },
  {
   "cell_type": "markdown",
   "metadata": {},
   "source": [
    "### Population data\n",
    "\n",
    "Go to\n",
    "https://opendata.cbs.nl/statline/portal.html?_la=en&_catalog=CBS&tableId=37259eng&_theme=1066\n",
    "\n",
    "Select the following options:\n",
    "- Topics: Net migration *and* live born children (2/20)\n",
    "- Sex: only total (1/3)\n",
    "- Regions: all provinces (12/1237)\n",
    "\n",
    "This should give you 732 rows and result in the file\n",
    "\n",
    "`37259eng_UntypedDataSet_15112021_100104.csv`\n",
    "\n",
    "Also download the metadata for later reference.\n",
    "\n",
    "### Economic data\n",
    "\n",
    "Go to\n",
    "https://opendata.cbs.nl/statline/portal.html?_la=en&_catalog=CBS&tableId=82800ENG&_theme=1064\n",
    "\n",
    "Select the following options:\n",
    "- Topics: GDP (volume change) (1/2)\n",
    "- Economic sectors: A-U all economic activities (1/15)\n",
    "- Regions: all provinces (12/77)\n",
    "\n",
    "This should give you 264 rows and result in the file\n",
    "\n",
    "`82800ENG_UntypedDataSet_15112021_101225.csv`\n",
    "\n",
    "Also download the metadata for later reference.\n"
   ]
  },
  {
   "cell_type": "markdown",
   "metadata": {},
   "source": [
    "## Preprocessing the data\n",
    "### Population data"
   ]
  },
  {
   "cell_type": "code",
   "execution_count": null,
   "metadata": {},
   "outputs": [],
   "source": [
    "import pandas as pd\n",
    "%matplotlib inline"
   ]
  },
  {
   "cell_type": "code",
   "execution_count": null,
   "metadata": {},
   "outputs": [],
   "source": [
    "population = pd.read_csv('37259eng_UntypedDataSet_15112021_100104.csv', delimiter=';')"
   ]
  },
  {
   "cell_type": "code",
   "execution_count": null,
   "metadata": {},
   "outputs": [],
   "source": [
    "population.head()"
   ]
  },
  {
   "cell_type": "markdown",
   "metadata": {},
   "source": [
    "We first remove all columns that are not necessary."
   ]
  },
  {
   "cell_type": "code",
   "execution_count": null,
   "metadata": {},
   "outputs": [],
   "source": [
    "population['Sex'].value_counts()"
   ]
  },
  {
   "cell_type": "code",
   "execution_count": null,
   "metadata": {},
   "outputs": [],
   "source": [
    "population.drop(['Sex','ID'], axis = 1, inplace = True)"
   ]
  },
  {
   "cell_type": "code",
   "execution_count": null,
   "metadata": {},
   "outputs": [],
   "source": [
    "population"
   ]
  },
  {
   "cell_type": "markdown",
   "metadata": {},
   "source": [
    "The values of the column Regions contain weird spaces at the end:"
   ]
  },
  {
   "cell_type": "code",
   "execution_count": null,
   "metadata": {},
   "outputs": [],
   "source": [
    "population.iloc[0,0]"
   ]
  },
  {
   "cell_type": "markdown",
   "metadata": {},
   "source": [
    "We are going to remove them:"
   ]
  },
  {
   "cell_type": "code",
   "execution_count": null,
   "metadata": {},
   "outputs": [],
   "source": [
    "population['Regions'] = population['Regions'].map(lambda x: x.strip())"
   ]
  },
  {
   "cell_type": "markdown",
   "metadata": {},
   "source": [
    "By having a look at the metadata (using CTRL-F for looking for PV20), we can find out what the province codes actually mean. Let's recode that by using a dict to map the keys to more meaningful values."
   ]
  },
  {
   "cell_type": "code",
   "execution_count": null,
   "metadata": {},
   "outputs": [],
   "source": [
    "provinces = {\"PV20\":\"Groningen\",\n",
    "\"PV21\":\"Friesland\",\n",
    "\"PV22\":\"Drenthe\",\n",
    "\"PV23\":\"Overijssel\",\n",
    "\"PV24\":\"Flevoland\",\n",
    "\"PV25\":\"Gelderland\",\n",
    "\"PV26\":\"Utrecht\",\n",
    "\"PV27\":\"Noord-Holland\",\n",
    "\"PV28\":\"Zuid-Holland\",\n",
    "\"PV29\":\"Zeeland\",\n",
    "\"PV30\":\"Noord-Brabant\",\n",
    "\"PV31\":\"Limburg\"}"
   ]
  },
  {
   "cell_type": "code",
   "execution_count": null,
   "metadata": {},
   "outputs": [],
   "source": [
    "population['Regions'] = population['Regions'].map(provinces)"
   ]
  },
  {
   "cell_type": "code",
   "execution_count": null,
   "metadata": {},
   "outputs": [],
   "source": [
    "population.head()"
   ]
  },
  {
   "cell_type": "markdown",
   "metadata": {},
   "source": [
    "Let's also represent the Period in a better way. It's a string now, and only the first four digits are meaningful. Let's convert these to an integer. Alternatively, we could opt to convert it to a date (a so-called datetime object)."
   ]
  },
  {
   "cell_type": "code",
   "execution_count": null,
   "metadata": {},
   "outputs": [],
   "source": [
    "population['Periods'] = population['Periods'].map(lambda x: int(x[:4]))"
   ]
  },
  {
   "cell_type": "code",
   "execution_count": null,
   "metadata": {},
   "outputs": [],
   "source": [
    "population.head()"
   ]
  },
  {
   "cell_type": "markdown",
   "metadata": {},
   "source": [
    "Let's save this:"
   ]
  },
  {
   "cell_type": "code",
   "execution_count": null,
   "metadata": {},
   "outputs": [],
   "source": [
    "population.to_csv('population.csv')\n",
    "population.to_json('population.json')"
   ]
  },
  {
   "cell_type": "markdown",
   "metadata": {},
   "source": [
    "### Economic data\n",
    "\n",
    "We just do exactly the same for our economic dataset"
   ]
  },
  {
   "cell_type": "code",
   "execution_count": null,
   "metadata": {},
   "outputs": [],
   "source": [
    "economy = pd.read_csv('82800ENG_UntypedDataSet_15112021_101225.csv', delimiter=';')"
   ]
  },
  {
   "cell_type": "code",
   "execution_count": null,
   "metadata": {},
   "outputs": [],
   "source": [
    "economy"
   ]
  },
  {
   "cell_type": "code",
   "execution_count": null,
   "metadata": {},
   "outputs": [],
   "source": [
    "# We only downloaded the total, so we can safely delete:\n",
    "economy['EconomicSectorsSIC2008'].value_counts()"
   ]
  },
  {
   "cell_type": "code",
   "execution_count": null,
   "metadata": {},
   "outputs": [],
   "source": [
    "economy.drop(['EconomicSectorsSIC2008','ID'], axis = 1, inplace = True)"
   ]
  },
  {
   "cell_type": "code",
   "execution_count": null,
   "metadata": {},
   "outputs": [],
   "source": [
    "economy['Regions'] = economy['Regions'].map(lambda x: x.strip())\n",
    "economy['Regions'] = economy['Regions'].map(provinces)"
   ]
  },
  {
   "cell_type": "code",
   "execution_count": null,
   "metadata": {},
   "outputs": [],
   "source": [
    "economy['Periods'] = economy['Periods'].map(lambda x: int(x[:4]))"
   ]
  },
  {
   "cell_type": "code",
   "execution_count": null,
   "metadata": {},
   "outputs": [],
   "source": [
    "economy.head()"
   ]
  },
  {
   "cell_type": "code",
   "execution_count": null,
   "metadata": {},
   "outputs": [],
   "source": [
    "economy.to_csv('economy.csv')\n",
    "economy.to_json('economy.json')"
   ]
  }
 ],
 "metadata": {
  "kernelspec": {
   "display_name": "Python 3",
   "language": "python",
   "name": "python3"
  },
  "language_info": {
   "codemirror_mode": {
    "name": "ipython",
    "version": 3
   },
   "file_extension": ".py",
   "mimetype": "text/x-python",
   "name": "python",
   "nbconvert_exporter": "python",
   "pygments_lexer": "ipython3",
   "version": "3.7.11"
  }
 },
 "nbformat": 4,
 "nbformat_minor": 4
}
