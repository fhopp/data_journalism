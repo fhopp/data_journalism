{
 "cells": [
  {
   "cell_type": "markdown",
   "metadata": {},
   "source": [
    "# Data Journalism\n",
    "## Monday, week 2: basic statistics & analyzing numbers\n",
    "\n",
    "*Damian Trilling and Penny Sheets*\n",
    "\n",
    "This notebook is designed to show you some ways to use python for basic statistical analysis of numbers, and to explore some methods that go beyond `df.describe()` or `Counter()`, which we used last week. In particular, we are going to look into analyzing numerical data. Next week, we will focus on textual data.\n",
    "\n",
    "The dataset we use in this example is a subset of the data presented in Trilling, D. (2013). *Following the news. Patterns of online and offline news use*. PhD thesis, University of Amsterdam. http://hdl.handle.net/11245/1.394551\n"
   ]
  },
  {
   "cell_type": "markdown",
   "metadata": {},
   "source": [
    "### Import our tools/modules/libraries\n",
    "\n",
    "As always, we first import the tools we'll need. Today, we'll use pandas (usually imported as \"pd\"), and something called statsmodels, and something called numpy. We also use matplotlib for some visualizations. A lot of other stuff here we will need for some specific analyses later on; you don't have to worry about all of it right now.\n",
    "\n",
    "If you want to learn more about these modules, you can look online for info."
   ]
  },
  {
   "cell_type": "code",
   "execution_count": null,
   "metadata": {},
   "outputs": [],
   "source": [
    "import pandas as pd\n",
    "import matplotlib.pyplot as plt\n",
    "%matplotlib inline\n",
    "import seaborn as sns\n",
    "import statsmodels as sm\n",
    "import statsmodels.formula.api as smf\n",
    "from statsmodels.stats.weightstats import ttest_ind\n",
    "from scipy.stats import kendalltau\n",
    "import numpy as np"
   ]
  },
  {
   "cell_type": "markdown",
   "metadata": {},
   "source": [
    "### Read data into a dataframe\n",
    "We will read a dataset based on Trilling (2013). It contains some sociodemographic variables as well as the number of days the respondent uses a specific medium to access information about news and current affairs.\n",
    "\n",
    "You should download the dataset (with the 'save page as' method, making sure .txt isn't appended to the file extension) into the same folder as this jupyter notebook: https://raw.githubusercontent.com/damian0604/bdaca/master/ipynb/mediause.csv\n",
    "\n",
    "Remember that the 'df' here is arbitrary; last week we used the names 'iris' and 'stockdata' and others; this week we're going more basic and just saying 'df' for dataframe."
   ]
  },
  {
   "cell_type": "markdown",
   "metadata": {},
   "source": [
    "### In case you work with google colab (see also first notebook):\n",
    "1. Upload the CSV file to your Google Drive in the folder `datajournalism`\n",
    "2. Mount google drive (for your convenience, the command is shown in the cell below - just remove the hashtags that \"comment it out\"\n",
    "3. Everywhere where we say sth like `'mediause.csv'`, prefix it with `/mnt/My Drive/datajournalism` and write, for instance, `/mnt/My Drive/datajournalism/mediause.csv`"
   ]
  },
  {
   "cell_type": "code",
   "execution_count": null,
   "metadata": {},
   "outputs": [],
   "source": [
    "#from google.colab import drive\n",
    "#drive.mount('/mnt')"
   ]
  },
  {
   "cell_type": "code",
   "execution_count": null,
   "metadata": {},
   "outputs": [],
   "source": [
    "df = pd.read_csv('mediause.csv')\n",
    "# or, for google colab:\n",
    "# df = pd.read_csv('/mnt/My Drive/datajournalism/mediause.csv')"
   ]
  },
  {
   "cell_type": "markdown",
   "metadata": {},
   "source": [
    "Using the .keys() method is way to find out what the columns are in your dataframe. Sometimes they have nice labels already, and sometimes they don't.  In this case, we're in luck."
   ]
  },
  {
   "cell_type": "code",
   "execution_count": null,
   "metadata": {},
   "outputs": [],
   "source": [
    "df.keys()"
   ]
  },
  {
   "cell_type": "markdown",
   "metadata": {},
   "source": [
    "Remember that for a dataframe or object in python, you can simply type its name in a code cell and python will display it as best it can. (In this case, it works well.) "
   ]
  },
  {
   "cell_type": "code",
   "execution_count": null,
   "metadata": {
    "scrolled": true
   },
   "outputs": [],
   "source": [
    "df"
   ]
  },
  {
   "cell_type": "markdown",
   "metadata": {},
   "source": [
    "### Explore the dataset\n",
    "Let's do some descriptive statistics, using the .describe() method we saw last week. This would be important if you wanted to describe the dataset to your audience, for example."
   ]
  },
  {
   "cell_type": "code",
   "execution_count": null,
   "metadata": {},
   "outputs": [],
   "source": [
    "df.describe()"
   ]
  },
  {
   "cell_type": "markdown",
   "metadata": {},
   "source": [
    "If you want to find out how many possible values there are for a specific variable, you can use the `.value_counts()` method. In this case, you select the dataframe (which we've called `df`), select the column/variable you want to examine, and then apply the method.\n",
    "\n",
    "The output shows us that there are two values - 0 and 1 - for the 'gender' variable. It gives us how many instances (aka frequencies) of each of these values exist in the dataset."
   ]
  },
  {
   "cell_type": "code",
   "execution_count": null,
   "metadata": {},
   "outputs": [],
   "source": [
    "df['gender'].value_counts()"
   ]
  },
  {
   "cell_type": "code",
   "execution_count": null,
   "metadata": {
    "scrolled": false
   },
   "outputs": [],
   "source": [
    "#as with any method, value_counts() has parameters we can adjust.\n",
    "#by default, the results are sorted by size of the count, but we can\n",
    "#also allow it to be random if we wanted. Compare the results.\n",
    "\n",
    "df['education'].value_counts(sort=False)"
   ]
  },
  {
   "cell_type": "code",
   "execution_count": null,
   "metadata": {},
   "outputs": [],
   "source": [
    "df['education'].value_counts(sort=True)"
   ]
  },
  {
   "cell_type": "code",
   "execution_count": null,
   "metadata": {},
   "outputs": [],
   "source": [
    "#if it is useful to sort by the index - i.e. days of the week here - then you can specify that as follows:\n",
    "df['education'].value_counts().sort_index()"
   ]
  },
  {
   "cell_type": "code",
   "execution_count": null,
   "metadata": {},
   "outputs": [],
   "source": [
    "#You can also use a help command to get python to print info about this method. But in this case, \n",
    "#you have to make an additional step, because the selected column isn't an object until\n",
    "#it is officially run in a 'real' command. So you have to turn that into an object, and then ask for help.\n",
    "\n",
    "test = df['education']\n",
    "test.value_counts?"
   ]
  },
  {
   "cell_type": "markdown",
   "metadata": {},
   "source": [
    "You can also display value counts for multiple variables at once, to get an overview of your data.  In this case, use a loop to replicate commands for each of the four media types. We'll do this next, but we'll also set a few specifications so that it prints out nicely. \n",
    "\n",
    "See if you can figure out what each of these print commands is doing."
   ]
  },
  {
   "cell_type": "code",
   "execution_count": null,
   "metadata": {},
   "outputs": [],
   "source": [
    "for medium in ['radio','newspaper','tv','internet']:\n",
    "    print(medium.upper())\n",
    "    print(df[medium].value_counts(sort=True, normalize=True))\n",
    "    print('-------------------------------------------\\n')\n",
    "    "
   ]
  },
  {
   "cell_type": "markdown",
   "metadata": {},
   "source": [
    "So that's one way to start exploring a dataset generally.\n",
    "\n",
    "## Groupby\n",
    "\n",
    "Let's say you'd like to compare the media use of men and women in the dataset. Eventually we'll move toward statistical comparison, but for now we can start by looking at their descriptive statistics - separately for men and women.\n",
    "\n",
    "In python, this is quite easy, using the `.groupby()` method.\n",
    "\n",
    "First, we group the dataframe by the 'gender' variable, and then apply a method to that grouped dataframe; this is called 'chaining' multiple methods together.  (We saw a bit of this chaining idea last week already.)\n"
   ]
  },
  {
   "cell_type": "code",
   "execution_count": null,
   "metadata": {},
   "outputs": [],
   "source": [
    "df.groupby('gender').describe()"
   ]
  },
  {
   "cell_type": "markdown",
   "metadata": {},
   "source": [
    "Sometimes in this case, it's more useful to transpose the dataset, making columns into rows and vice versa.  This display will then be much easier to look at.  In this case, we use a .T at the end, after the describe() method.  This doesn't change the dataframe in any way, just displays it differently for you here."
   ]
  },
  {
   "cell_type": "code",
   "execution_count": null,
   "metadata": {},
   "outputs": [],
   "source": [
    "df.groupby('gender').describe().T"
   ]
  },
  {
   "cell_type": "code",
   "execution_count": null,
   "metadata": {},
   "outputs": [],
   "source": [
    "#try this again here, using a different variable as the grouping variable.\n"
   ]
  },
  {
   "cell_type": "code",
   "execution_count": null,
   "metadata": {},
   "outputs": [],
   "source": [
    "#you can use help again here, to figure out all the specifications.\n",
    "\n",
    "df.groupby?"
   ]
  },
  {
   "cell_type": "markdown",
   "metadata": {},
   "source": [
    "And, as we did last week, you can plot a simple histogram of the distribution of a variable across the dataset. So if you want to look at how 'radio' (as in, how many days per week a person uses radio) is distributed among your sample, e.g., you can use a histogram."
   ]
  },
  {
   "cell_type": "code",
   "execution_count": null,
   "metadata": {},
   "outputs": [],
   "source": [
    "#Here, 'bins' refers to how many bars we want, essentially. If you don't specify, python/pandas will guess based\n",
    "#on the dataset. This can be misleading. So if you know how many you want to display, you should specify.\n",
    "\n",
    "df['radio'].hist(bins=7)"
   ]
  },
  {
   "cell_type": "code",
   "execution_count": null,
   "metadata": {},
   "outputs": [],
   "source": [
    "#Try to plot a histogram of internet news use here:\n"
   ]
  },
  {
   "cell_type": "markdown",
   "metadata": {},
   "source": [
    "One of the modules we imported above helps us to make prettier plots (but no, it's not called \"pretty plot\" like \"pretty print\"). Here we can plot the value counts for internet news use in a bar chart, again sorted by the index.\n",
    "\n",
    "In particular, the histogram above is very good for continous variables, that we want to 'bin' into fewer bins (=bars). But if we only have a small number of discrete values (like here: the integers from 0 to 7), then the alignment of the labels above may be more confusing. \n",
    "\n",
    "Let's try to use `.plot()` to make a bar chart:"
   ]
  },
  {
   "cell_type": "code",
   "execution_count": null,
   "metadata": {},
   "outputs": [],
   "source": [
    "df['internet'].value_counts().sort_index().plot(kind='bar')"
   ]
  },
  {
   "cell_type": "markdown",
   "metadata": {},
   "source": [
    "## POP QUIZ!\n",
    "\n",
    "Can you integrate this plotting method in your for-loop (from above) to get a nice series of plots?  Fill in the missing line of code, below.  But keep the plt.show() command afterward, in order to display all plots.\n"
   ]
  },
  {
   "cell_type": "code",
   "execution_count": null,
   "metadata": {},
   "outputs": [],
   "source": [
    "for medium in ['radio','newspaper','tv','internet']:\n",
    "    print(medium.upper())\n",
    "    print(df[medium].value_counts(sort=True, normalize=True))\n",
    "    print('-------------------------------------------\\n')\n",
    "    #YOUR CODE HERE\n",
    "    plt.show()"
   ]
  },
  {
   "cell_type": "markdown",
   "metadata": {},
   "source": [
    "And instead of (or in addition to) the plt.show(), you can also save these plots to your folder on your computer. These are very high quality images then, that could be used in a piece (if you provided appropriate axis titles, etc.), and you can specify the figure size and DPI.\n",
    "\n",
    "Note here we've added a 'figsize' specification to the end of the plot method in your missing line of code. You can play around with different figure sizes to see what happens, if you display them here using plt.show()."
   ]
  },
  {
   "cell_type": "code",
   "execution_count": null,
   "metadata": {},
   "outputs": [],
   "source": [
    "for medium in ['radio','newspaper','tv','internet']:\n",
    "    print(medium.upper())\n",
    "    print(df[medium].value_counts(sort=True, normalize=True))\n",
    "    print('-------------------------------------------\\n')\n",
    "    #YOUR CODE HERE ...(kind='bar', figsize=(6,4))\n",
    "    plt.savefig('{}.png'.format(medium), dpi=400)\n",
    "    plt.show()\n",
    "\n",
    "#Now go check your folder and see if the image files have shown up.\n",
    "#Note that we have to use the curly brackets and .format(medium) to give \n",
    "#the relevant title to each figure. "
   ]
  },
  {
   "cell_type": "markdown",
   "metadata": {},
   "source": [
    "### Plots grouped by variables\n",
    "\n",
    "You can also create comparison histograms, side-by-side, for different values of a variable. For example, let's look at the histogram of internet news use for men and women in this dataset.\n",
    "\n",
    "Here, we're using the \"by=[' ']\" command to specify which grouping variable we want, and again specifying the bins and the figure size, both of which you can play around with."
   ]
  },
  {
   "cell_type": "code",
   "execution_count": null,
   "metadata": {},
   "outputs": [],
   "source": [
    "df.hist(column='internet', by=['gender'], bins=7, figsize=(10,5))"
   ]
  },
  {
   "cell_type": "markdown",
   "metadata": {},
   "source": [
    "## Statistical tests and subsetting datasets\n",
    "\n",
    "Now, if we want to move onto statistical comparisons, we can run our normal, basic statistics here in python as well.  There's no need to import your datset to SPSS to do this, if you want to know whether a specific difference is significant, for example.\n",
    "\n",
    "### T-tests\n",
    "\n",
    "Let's start with a t-test, comparing the mean internet news use for men and women that we just examined in the histograms. \n",
    "\n",
    "In order to do this, we have to create two new little dataframes out of our first one - one for men, one for women.\n",
    "\n",
    "We are using the ability to filter a dataframe (e.g., `df[df['gender']==1]` to create a dataframe only for males; adding `['internet']` at the end selects only the column for internet). This can be handy to select only relevant data for your story out of a much larger dataset!"
   ]
  },
  {
   "cell_type": "code",
   "execution_count": null,
   "metadata": {},
   "outputs": [],
   "source": [
    "males_internet = df[df['gender']==1]['internet']\n",
    "females_internet = df[df['gender']==0]['internet']\n"
   ]
  },
  {
   "cell_type": "markdown",
   "metadata": {},
   "source": [
    "Each of these new dataframes can then be described and explored as we do with any pandas dataframe, and using `.describe()`, remember, gives us the mean score (handy for our t-test!)."
   ]
  },
  {
   "cell_type": "code",
   "execution_count": null,
   "metadata": {},
   "outputs": [],
   "source": [
    "males_internet.describe()"
   ]
  },
  {
   "cell_type": "code",
   "execution_count": null,
   "metadata": {},
   "outputs": [],
   "source": [
    "females_internet.describe()"
   ]
  },
  {
   "cell_type": "markdown",
   "metadata": {},
   "source": [
    "We see the male mean is 3.02, and the female mean is 2.37.  But we don't know if, based on the sample, this is a significant difference.  We don't want to make misleading claims in our story!  So, run a t-test.  (Specifically, an independent samples t-test.)\n",
    "\n",
    "The results return the test statistic, p-value, and the degrees of freedom (in that order). "
   ]
  },
  {
   "cell_type": "code",
   "execution_count": null,
   "metadata": {},
   "outputs": [],
   "source": [
    "ttest_ind(males_internet,females_internet)"
   ]
  },
  {
   "cell_type": "markdown",
   "metadata": {},
   "source": [
    "We see that males use the internet significantly more often than females (that e-08 means the p-value is REALLY tiny). \n",
    "\n",
    "We could also do some pretty-printing if we wanted to, to display this more nicely for ourselves.\n",
    "\n",
    "The \"._f\" specification is how many decimal places; the integer before the colon is the position of the output from the default t-test command.\n",
    "\n",
    "And again, here we see the use of \".format()\" as a method to input something from the ongoing calculation."
   ]
  },
  {
   "cell_type": "code",
   "execution_count": null,
   "metadata": {},
   "outputs": [],
   "source": [
    "results = ttest_ind(males_internet,females_internet)\n",
    "print('t({2:.0f}) = {0:.3f}, p = {1:.3f}'.format(*results))"
   ]
  },
  {
   "cell_type": "markdown",
   "metadata": {},
   "source": [
    "Let's look into some continous variables. First of all, let us create one: We make a subset of our dataframe that contains only the media variables, apply the `.mean()` method to it (`axis = 1` means that we want to apply it row-wise), and then we assign the result of this to a new colum in the original dataframe.\n",
    "\n"
   ]
  },
  {
   "cell_type": "code",
   "execution_count": null,
   "metadata": {},
   "outputs": [],
   "source": [
    "df['meanmedia'] = df[['radio','internet','newspaper','tv']].mean(axis=1)"
   ]
  },
  {
   "cell_type": "code",
   "execution_count": null,
   "metadata": {},
   "outputs": [],
   "source": [
    "#We can then plot this mean media usage (for news) by age, using a scatterplot, e.g.\n",
    "#Feel free to play around with the color parameters, and remember to use help commands to \n",
    "#find out more about formatting these plots.\n",
    "\n",
    "df.plot.scatter(x='age', y='meanmedia', c='blue')"
   ]
  },
  {
   "cell_type": "markdown",
   "metadata": {},
   "source": [
    "There are obviously many more possibilities here, including running a correlation between age and mean media use, for example, or using ANOVAs if you had more than 2 groups to compare, etc.  We don't have time to show all of this to you in class, but remember there is a ton of resources online, so you should just search away to find what you need.  If you have problems understanding specific modules or commands you find online, you can approach us during our open lab sessions with questions as to how to apply these techniques to your own data story."
   ]
  },
  {
   "cell_type": "markdown",
   "metadata": {},
   "source": [
    "### Before we finish, let's play around with some more graphics\n",
    "\n",
    "The seaborn library (which we imported at the beginning) offers a lot of cool stuff."
   ]
  },
  {
   "cell_type": "markdown",
   "metadata": {},
   "source": [
    "First, we'll make a simple correlation matrix of the four media in this datset."
   ]
  },
  {
   "cell_type": "code",
   "execution_count": null,
   "metadata": {},
   "outputs": [],
   "source": [
    "corrmatrix = df[['internet','tv','radio','newspaper']].corr()"
   ]
  },
  {
   "cell_type": "code",
   "execution_count": null,
   "metadata": {},
   "outputs": [],
   "source": [
    "corrmatrix"
   ]
  },
  {
   "cell_type": "markdown",
   "metadata": {},
   "source": [
    "But think of ways that are more useful to display this to audiences, who may not want to deal with a correlation matrix.  Heatmaps are one way to do this:"
   ]
  },
  {
   "cell_type": "code",
   "execution_count": null,
   "metadata": {},
   "outputs": [],
   "source": [
    "sns.heatmap(corrmatrix)"
   ]
  },
  {
   "cell_type": "markdown",
   "metadata": {},
   "source": [
    "This looks okay, but is a bit redundant, so it would be great if we could sort of 'white out' the unnecessary (replicated) top triangle of the chart, and use colors that are more intuitive - usually darker means a stronger relationship in a heat map, right?\n",
    "\n",
    "Here, note that even Damian (EVEN DAMIAN!) can't reproduce all of this out of his head.  But if you look around online, or use what we show you here and adapt it, you can do a lot of amazing graphics stuff."
   ]
  },
  {
   "cell_type": "code",
   "execution_count": null,
   "metadata": {},
   "outputs": [],
   "source": [
    "sns.set(style=\"white\")\n",
    "mask = np.zeros_like(corrmatrix, dtype=np.bool)\n",
    "mask[np.triu_indices_from(mask)] = True\n",
    "cmap = sns.light_palette(\"red\",as_cmap=True)\n",
    "sns.heatmap(corrmatrix,mask=mask,cmap=cmap,vmin=0,vmax=.2)"
   ]
  },
  {
   "cell_type": "markdown",
   "metadata": {},
   "source": [
    "## So...\n",
    "\n",
    "there are lots of possibilities here. Remember: google is your friend here!\n"
   ]
  },
  {
   "cell_type": "markdown",
   "metadata": {},
   "source": [
    "## More (non-graded) homework :)\n",
    "\n",
    "Using the Iris dataset from last Wednesday, try the following:\n",
    "1. Describe the dataset\n",
    "2. Find the value counts of the 'species' column\n",
    "3. Describe the dataset for each of the species separately.\n",
    "4. Transpose the output for this previous command.\n",
    "5. Create side-by-side histograms of petal length for each species.\n"
   ]
  },
  {
   "cell_type": "code",
   "execution_count": null,
   "metadata": {},
   "outputs": [],
   "source": []
  },
  {
   "cell_type": "code",
   "execution_count": null,
   "metadata": {},
   "outputs": [],
   "source": []
  },
  {
   "cell_type": "code",
   "execution_count": null,
   "metadata": {},
   "outputs": [],
   "source": []
  },
  {
   "cell_type": "code",
   "execution_count": null,
   "metadata": {},
   "outputs": [],
   "source": []
  },
  {
   "cell_type": "code",
   "execution_count": null,
   "metadata": {},
   "outputs": [],
   "source": []
  },
  {
   "cell_type": "markdown",
   "metadata": {},
   "source": [
    "Regardless whether you were able to do that, here's a really cool graphic to show you. In this case, we're plotting petal width by petal length, with a different color for each species.  This also uses the seaborn library (indicated by sns).  Because of the nature of this dataset and the values within it, it works quite well.)"
   ]
  },
  {
   "cell_type": "code",
   "execution_count": null,
   "metadata": {},
   "outputs": [],
   "source": [
    "iris.groupby('species').describe().T"
   ]
  },
  {
   "cell_type": "code",
   "execution_count": null,
   "metadata": {},
   "outputs": [],
   "source": [
    "iris.hist(column='petal_length', by=['species'], figsize=(10,5))"
   ]
  },
  {
   "cell_type": "code",
   "execution_count": null,
   "metadata": {},
   "outputs": [],
   "source": [
    "sns.scatterplot(x=\"petal_width\", y=\"petal_length\", hue=\"species\", data=iris)"
   ]
  },
  {
   "cell_type": "markdown",
   "metadata": {},
   "source": [
    "\n",
    "\n",
    "\n",
    "\n",
    "## Appendix: Multivariate statistical analysis\n",
    "\n",
    "For those who are interested, here's a brief bit on multivariate analyses.  Here, we're focusing on the same comparison of internet news use between men and women, but first, let's see whether that holds when we control for political interest. \n",
    "\n",
    "Before we can do that, we have to bring in another datset, however, and join it.  You can access this dataset and save it from the following URL: https://raw.githubusercontent.com/damian0604/bdaca/master/ipynb/intpol.csv\n",
    "\n",
    "We'll talk more about aggregating/merging datasets in a later session, so for now just go with it."
   ]
  },
  {
   "cell_type": "code",
   "execution_count": null,
   "metadata": {},
   "outputs": [],
   "source": [
    "intpol=pd.read_csv('intpol.csv')"
   ]
  },
  {
   "cell_type": "code",
   "execution_count": null,
   "metadata": {},
   "outputs": [],
   "source": [
    "combined = df.join(intpol)"
   ]
  },
  {
   "cell_type": "code",
   "execution_count": null,
   "metadata": {
    "scrolled": true
   },
   "outputs": [],
   "source": [
    "combined"
   ]
  },
  {
   "cell_type": "markdown",
   "metadata": {},
   "source": [
    "Let's do an OLS regression. In order to do so, we need to define a model and then run it. When defining the model, you create the equation in the following manner:\n",
    "* First you include your dependent variable, followed by the ~ sign\n",
    "* Then you include the independent variables (separated by the + sign)"
   ]
  },
  {
   "cell_type": "code",
   "execution_count": null,
   "metadata": {},
   "outputs": [],
   "source": [
    "m1 = smf.ols(formula='internet ~ age + gender + education', data=combined).fit()"
   ]
  },
  {
   "cell_type": "code",
   "execution_count": null,
   "metadata": {},
   "outputs": [],
   "source": [
    "m1.summary()"
   ]
  },
  {
   "cell_type": "code",
   "execution_count": null,
   "metadata": {},
   "outputs": [],
   "source": [
    "m2 = smf.ols(formula='internet ~ age + gender + education + intpol', data=combined).fit()\n",
    "m2.summary()"
   ]
  },
  {
   "cell_type": "markdown",
   "metadata": {},
   "source": [
    "We can also do a test to see whether M2 is better than M1 (it is, in this case:)\n",
    "(see also http://www.statsmodels.org/stable/generated/statsmodels.regression.linear_model.OLSResults.compare_lr_test.html?highlight=compare_lr_test )\n"
   ]
  },
  {
   "cell_type": "code",
   "execution_count": null,
   "metadata": {},
   "outputs": [],
   "source": [
    "m2.compare_lr_test(m1)"
   ]
  },
  {
   "cell_type": "markdown",
   "metadata": {},
   "source": [
    "## Hexplots\n",
    "\n",
    "We have seen scatterplots at work above. Scatterplots are a cool way to show the relationship between two variables, but they mainly work well if both variables have a lot of different values (say, the money people earn in Euros' (and not in categories!), or the time people spent on Facebook in exact minutes). However, if we have only few possible values (such as the integers from 0 to 7, as in our examples above), the dots in the scatterplot will overlap, and an observation that only occurs one single time looks exactly like an observation that occurs 1000 times.\n",
    "\n",
    "A hexplot is very much like a scatterplot, but *the more observations overlap at the same (hexagon-shaped) place in the graph, the darker it gets.*\n",
    "\n",
    "To make it even more informative, we add histograms of the two variables in the margin, so that you can immediately get an idea of the distributions. This, again, helps us to understand whether there are just a few (very old, very young) people that behave in some way (no media at all, media every day), or whether it's a general pattern."
   ]
  },
  {
   "cell_type": "code",
   "execution_count": null,
   "metadata": {},
   "outputs": [],
   "source": [
    "sns.jointplot(combined['age'], combined['meanmedia'] , \n",
    "              kind=\"hex\", stat_func=kendalltau, color=\"#4CB391\")"
   ]
  },
  {
   "cell_type": "markdown",
   "metadata": {},
   "source": [
    "Above, we also displayed a correlation coefficient, Kendall's tau, in the plot, but we could also use a different one like Pearson's R or Mann-Whitney's U."
   ]
  },
  {
   "cell_type": "code",
   "execution_count": null,
   "metadata": {},
   "outputs": [],
   "source": [
    "from scipy.stats import pearsonr, mannwhitneyu"
   ]
  },
  {
   "cell_type": "code",
   "execution_count": null,
   "metadata": {},
   "outputs": [],
   "source": [
    "sns.jointplot(combined['age'], combined['meanmedia'] , \n",
    "              kind=\"hex\", stat_func=pearsonr, color=\"#4CB391\")"
   ]
  }
 ],
 "metadata": {
  "kernelspec": {
   "display_name": "Python 3",
   "language": "python",
   "name": "python3"
  },
  "language_info": {
   "codemirror_mode": {
    "name": "ipython",
    "version": 3
   },
   "file_extension": ".py",
   "mimetype": "text/x-python",
   "name": "python",
   "nbconvert_exporter": "python",
   "pygments_lexer": "ipython3",
   "version": "3.6.5"
  }
 },
 "nbformat": 4,
 "nbformat_minor": 1
}
