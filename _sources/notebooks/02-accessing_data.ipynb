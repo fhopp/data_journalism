{
 "cells": [
  {
   "cell_type": "markdown",
   "metadata": {
    "id": "ew7je-M7tXgG"
   },
   "source": [
    "# Accessing Data\n",
    "\n",
    "*Damian Trilling and Penny Sheets*\n",
    "\n",
    "This notebook is meant to show you different ways of accessing data. Data can be available as (a) local files (on your computer), (b) remote files (somewhere else), or (c) APIs (application programming interfaces). We will show you ways for dealing with all of these."
   ]
  },
  {
   "cell_type": "markdown",
   "metadata": {
    "id": "wM-SYGSDtXgL"
   },
   "source": [
    "But before we do that, we need to import some modules into Jupyter that will help us find and read data.  You already know our basic module, pandas.  Let's import it again just in case your computer cleared it during the break (or in case you're doing this notebook again separately, after class)."
   ]
  },
  {
   "cell_type": "markdown",
   "metadata": {
    "id": "i39kXB4HtXgP"
   },
   "source": [
    "### Importing Modules\n",
    "It is a good custom to import all modules that you need at the beginning of your notebook. We'll explain in the lesson (or in subsequent weeks) what these modules do."
   ]
  },
  {
   "cell_type": "code",
   "execution_count": null,
   "metadata": {
    "id": "Yccoxp9ftXgR"
   },
   "outputs": [],
   "source": [
    "import pandas as pd\n",
    "from pprint import pprint\n",
    "import json\n",
    "import matplotlib.pyplot as plt\n",
    "from collections import Counter\n",
    "import requests\n",
    "import seaborn as sns\n",
    "%matplotlib inline"
   ]
  },
  {
   "cell_type": "markdown",
   "metadata": {
    "id": "0U8D2UaItXgk"
   },
   "source": [
    "## CSV files"
   ]
  },
  {
   "cell_type": "markdown",
   "metadata": {
    "id": "y5J3nHyOtXgm"
   },
   "source": [
    "Remember what we did in the first part of class today, working with that Iris dataset? We used pandas to read a CSV file directly from the web and gave its descriptive statistics."
   ]
  },
  {
   "cell_type": "code",
   "execution_count": null,
   "metadata": {
    "id": "gNWce38CtXgp"
   },
   "outputs": [],
   "source": [
    "iris = pd.read_csv('https://raw.githubusercontent.com/mwaskom/seaborn-data/master/iris.csv')\n",
    "iris"
   ]
  },
  {
   "cell_type": "code",
   "execution_count": null,
   "metadata": {
    "id": "MEi6H2MEtXgz"
   },
   "outputs": [],
   "source": [
    "iris.describe()"
   ]
  },
  {
   "cell_type": "markdown",
   "metadata": {
    "id": "35eH99AetXg8"
   },
   "source": [
    "If we want to, we could also plot a histogram:"
   ]
  },
  {
   "cell_type": "code",
   "execution_count": null,
   "metadata": {
    "id": "_Ufz7J4ktXg-"
   },
   "outputs": [],
   "source": [
    "iris.sepal_length.hist()"
   ]
  },
  {
   "cell_type": "markdown",
   "metadata": {
    "id": "E0xJWqottXhG"
   },
   "source": [
    "Let's say you want to configure that histogram differently, or get axis lables, etc.  Use the help menu to see how to do that:"
   ]
  },
  {
   "cell_type": "code",
   "execution_count": null,
   "metadata": {
    "id": "glv7bjcAtXhI"
   },
   "outputs": [],
   "source": [
    "iris.sepal_length.hist?\n"
   ]
  },
  {
   "cell_type": "markdown",
   "metadata": {
    "id": "l-mU_ShXtXhU"
   },
   "source": [
    "## Downloading data\n",
    "\n",
    "Probably, if you really want to analyze a dataset, you want to store it locally (=on your computer). Let's download a file with some stock exchange ratings: https://raw.githubusercontent.com/damian0604/bdaca/master/ipynb/stock.csv\n",
    "\n",
    "Download it (file-save as or right-clicking) as \"all file types\" (or .csv); be sure that the extension is correct. Be sure to save it IN THE SAME FOLDER as this jupyter notebook. (Otherwise jupyter won't find it.)"
   ]
  },
  {
   "cell_type": "markdown",
   "metadata": {
    "id": "b4l-ofR6tkfo"
   },
   "source": [
    "### In case you work with google colab (see also previous notebook):\n",
    "1. Upload the CSV file to your Google Drive in the folder `datajournalism`\n",
    "2. Mount google drive (for your convenience, the command is shown in the cell below - just remove the hashtags that \"comment it out\"\n",
    "3. Everywhere where we say sth like `'stock.csv'`, prefix it with `/mnt/My Drive/datajournalism` and write, for instance, `/mnt/My Drive/datajournalism/stock.csv`"
   ]
  },
  {
   "cell_type": "code",
   "execution_count": null,
   "metadata": {
    "id": "wFmLNvpTtjqf"
   },
   "outputs": [],
   "source": [
    "#from google.colab import drive\n",
    "#drive.mount('/mnt')"
   ]
  },
  {
   "cell_type": "markdown",
   "metadata": {
    "id": "ybUlt435tXhU"
   },
   "source": [
    "## Note!!! Not all CSV files are the same...\n",
    "\n",
    "CSV stands for Comma Seperated Value, which indicates that it consists of values (columns) seperated by commas. Just open a CSV file in an editor like Notepad or TextEdit instead of in Excel to understand what we mean.\n",
    "\n",
    "Unfortunately, there are many different dialects. For instance, sometimes, a semicolon or a tab is used instead of a comma; sometimes, the first line of a CSV file contains column headers, sometimes not) You can indicate these type of details yourself if pandas doesn't guess correctly.\n",
    "\n",
    "Pay special attention when opening a CSV file with Excel: Excel changes the formatting! For instance, it can happen that you open a file that uses commas as seperators in Excel, and when you save it, it suddenly uses semicolons instead. \n",
    "\n",
    "Another reason not to open your files in Excel first: Excel often creates a strange 'encoding' of the characters that causes problems here.  This is why we work just with the raw .csv file if possible.  If you are getting an encoding error, the first step is to re-download the data and do NOT open it in excel (even by mistake, by double-clicking on it).\n",
    "\n",
    "\n",
    "We can then open it in the same way as we did before by providing its filename:"
   ]
  },
  {
   "cell_type": "code",
   "execution_count": null,
   "metadata": {
    "id": "zLFfRsU8tXhW"
   },
   "outputs": [],
   "source": [
    "stockdata = pd.read_csv('stock.csv')\n",
    "# or, for google colab:\n",
    "# stockdata = pd.read_csv('/mnt/My Drive/datajournalism/stock.csv')"
   ]
  },
  {
   "cell_type": "markdown",
   "metadata": {
    "id": "YGIPns1ftXhe"
   },
   "source": [
    "Let's have a look..."
   ]
  },
  {
   "cell_type": "code",
   "execution_count": null,
   "metadata": {
    "id": "OLIdGg-rtXhg"
   },
   "outputs": [],
   "source": [
    "stockdata"
   ]
  },
  {
   "cell_type": "markdown",
   "metadata": {
    "id": "fbEIwmyGtXhm"
   },
   "source": [
    "The lefthand column here--called the index--gives you numbers in this case; these are simply the case numbers for each 'row' in the dataset; they may or may not have any meaning on their own, depending on the dataset.  You can also - later in this notebook and later in subsequent weeks - learn how to change these numbers or assign a different column to be the index."
   ]
  },
  {
   "cell_type": "markdown",
   "metadata": {
    "id": "Uy7hCeWWtXho"
   },
   "source": [
    "Because this data seems to be ordered by date in some way, it might be interesting to explore it by making a plot. In this case the plot is different than the histogram; it's not about frequencies of specific values, but rather a plot of all the cases at their value of 'low'.\n",
    "\n",
    "We are using a method here called 'plot', provided by pandas."
   ]
  },
  {
   "cell_type": "code",
   "execution_count": null,
   "metadata": {
    "id": "9PMOtl_jtXhp"
   },
   "outputs": [],
   "source": [
    "stockdata['Low'].plot()"
   ]
  },
  {
   "cell_type": "markdown",
   "metadata": {
    "id": "0t25tjnBtXhx"
   },
   "source": [
    "## Trouble with your CSV files?\n",
    "For more info on how to format your 'read_csv' commands, or if you're running into problems related to the comma-versus-tab-versus-semicolon issue, look at the help function:"
   ]
  },
  {
   "cell_type": "code",
   "execution_count": null,
   "metadata": {
    "id": "bZmQD21ztXhz"
   },
   "outputs": [],
   "source": [
    "pd.read_csv?"
   ]
  },
  {
   "cell_type": "markdown",
   "metadata": {
    "id": "RM4IoAuotXh5"
   },
   "source": [
    "## What if the data isn't in .csv format, but is online? \n",
    " \n",
    " There is actually a very simple, brilliant, scraping tool that allows you to grab content from tables online and turn that into a csv file.  Then you can use the tools we just used to analyze the csv file (including saving it to your computer and importing it into jupyter for analysis).  The tool is called read_html and allows you to basically put in any website URL and scrape the tables from it.  It probably won't work with all websites (and probably not everything it scrapes is relevant/useful to you), but, it is really handy when it does work.  Let's look, for example, at wikipedia's page involving the premier Dutch football league.\n",
    " \n",
    " First, load the URL into your browswer in another tab to look at the original page."
   ]
  },
  {
   "cell_type": "code",
   "execution_count": null,
   "metadata": {
    "id": "gGVHM3fWtXh6"
   },
   "outputs": [],
   "source": [
    "alltables = pd.read_html('https://en.wikipedia.org/wiki/Eredivisie')"
   ]
  },
  {
   "cell_type": "markdown",
   "metadata": {
    "id": "bQlrritQtXiF"
   },
   "source": [
    "Look at the following code carefully to see what we're doing here. We're introducing a new method (\"format\") which works for any string; this fills in a value between curly brackets. We also are using function we already know from the first part of today's lesson: \"len\". "
   ]
  },
  {
   "cell_type": "code",
   "execution_count": null,
   "metadata": {
    "id": "-o1mn7JxtXiF"
   },
   "outputs": [],
   "source": [
    "print('We have downloaded {} tables'.format(len(alltables)))"
   ]
  },
  {
   "cell_type": "markdown",
   "metadata": {
    "id": "IAD4vQvEtXiK"
   },
   "source": [
    "Here is another, perhaps simpler way to do this, but also less versatile if you want to do fancier stuff someday. \n",
    "\n",
    "**The point here is that there are multiple ways to do many things in python; we just want you to master one way and know why it's useful to you."
   ]
  },
  {
   "cell_type": "code",
   "execution_count": null,
   "metadata": {
    "id": "sO0KxOqytXiN"
   },
   "outputs": [],
   "source": [
    "print('We have downloaded', len(alltables), 'tables.')"
   ]
  },
  {
   "cell_type": "markdown",
   "metadata": {
    "id": "-jCpGItmtXiV"
   },
   "source": [
    "Let's look at, say, the third table in this set."
   ]
  },
  {
   "cell_type": "code",
   "execution_count": null,
   "metadata": {
    "id": "iS3QZA-wtXiX"
   },
   "outputs": [],
   "source": [
    "alltables[2]\n",
    "#why is this not 3? It is because python uses 0-based indexing, which means that data, values, rows, and items \n",
    "#in lists, which you've seen in your coding tutorials, all start at 0. So the first object in a list or index\n",
    "#is always in position \"0\", and the second in position \"1\", and so on.  In this case, to get the 3rd table in\n",
    "#this new little set of tables, we have to specify \"2\" rather than \"3\"."
   ]
  },
  {
   "cell_type": "markdown",
   "metadata": {
    "id": "75Lz644ZtXib"
   },
   "source": [
    "Now we can save this table to a csv file, which we will call 'test':"
   ]
  },
  {
   "cell_type": "code",
   "execution_count": null,
   "metadata": {
    "id": "Fa1RfATEtXid"
   },
   "outputs": [],
   "source": [
    "alltables[2].to_csv('test.csv')"
   ]
  },
  {
   "cell_type": "markdown",
   "metadata": {
    "id": "MEzZ-eJgtXil"
   },
   "source": [
    "Now, see if you can go back and read in this test.csv file, have a look at the dataset. \n",
    "\n",
    "If we had more time, we would try to figure out how to rename the columns, and play around with plotting the number of times each team won, for example. (Try this at home, and see if you can do it!  Using the read help command from earlier should help you figure out how to rename columns...or when in doubt, just search online for help!)"
   ]
  },
  {
   "cell_type": "code",
   "execution_count": null,
   "metadata": {
    "id": "bi1cgMsBtXin"
   },
   "outputs": [],
   "source": []
  },
  {
   "cell_type": "code",
   "execution_count": null,
   "metadata": {
    "id": "qIsaJ6BvtXiv"
   },
   "outputs": [],
   "source": []
  },
  {
   "cell_type": "markdown",
   "metadata": {
    "id": "kXoltZD9tXi3"
   },
   "source": [
    "## JSON files\n",
    "\n",
    "Another type of file we frequently encounter online is the so-called \"jason\" file - aka, JSON. JSON files allow for nested data structures--like databases.\n",
    "\n",
    "JSON is (basically) the same as a collection of Python dicts (dictionaries--we haven't talked about these yet in class, but you did learn about this in your coding tutorials. As a reminder, dicts are collections of key:value pairs, which means you have a category of something (key) and values within it (values)). I'll explain this in class more. Bottom line: it's very easy to look up things by their key, but not by their values. So, knowing our way around these dicts and how they are nested within one another - in a json file - is important.\n",
    "\n",
    "Let's download such a file and store it in the same directory as your jupyter notebook.\n",
    "Download https://open.data.amsterdam.nl/EtenDrinken.json .\n",
    "\n",
    "First, see what happens if you load this link in your browser. You can get a feel for the structure of the dataset, if your browser is relatively fancy.\n",
    "\n",
    "\n",
    "Next: we could use pandas to put the JSON file into a table (see next command) -- but as you see, because the data is *nested*, we still have dicts within some of the cells:"
   ]
  },
  {
   "cell_type": "code",
   "execution_count": null,
   "metadata": {
    "id": "c3bHxPeetXi4"
   },
   "outputs": [],
   "source": [
    "pd.read_json('EtenDrinken.json')"
   ]
  },
  {
   "cell_type": "markdown",
   "metadata": {
    "id": "dfWU9hn2tXi9"
   },
   "source": [
    "Sometimes, pandas can be an easy solution for dealing with JSON files, but in this case, it doesn't seem to be the best choice. \n",
    "\n",
    "So, let's read the JSON file into a list of dictionaries instead, since most of these columns seem to include dictionaries. We're going to call it \"eat\", this new list of dictionaries, because we know from the site this has something to do with eating and drinking."
   ]
  },
  {
   "cell_type": "code",
   "execution_count": null,
   "metadata": {
    "id": "dTiSGTPQtXjB"
   },
   "outputs": [],
   "source": [
    "eat = json.load(open('EtenDrinken.json'))\n",
    "#note: nothing happens in terms of output for this command.  \n",
    "#but now it's in a format we can more easily explore in python."
   ]
  },
  {
   "cell_type": "markdown",
   "metadata": {
    "id": "BnY_hANstXjH"
   },
   "source": [
    "### Playing around with nested JSON data and extracting meaningful information\n",
    "\n",
    "NOTE!! You don't need to be able to do all of this already, but it's mostly important that you try to understand the logic behind these various commands. We'll review a lot of this later on when we get to analysis, anyway."
   ]
  },
  {
   "cell_type": "markdown",
   "metadata": {
    "id": "uxWbv0iqtXjI"
   },
   "source": [
    "Let's check what `eat` is and what is in there"
   ]
  },
  {
   "cell_type": "code",
   "execution_count": null,
   "metadata": {
    "id": "ceqfHlVUtXjK"
   },
   "outputs": [],
   "source": [
    "type(eat)"
   ]
  },
  {
   "cell_type": "code",
   "execution_count": null,
   "metadata": {
    "id": "zXxkjHZmtXjQ"
   },
   "outputs": [],
   "source": [
    "len(eat)"
   ]
  },
  {
   "cell_type": "markdown",
   "metadata": {
    "id": "CKoeKasjtXjX"
   },
   "source": [
    "Maybe let's just look at the *first* restaurant"
   ]
  },
  {
   "cell_type": "code",
   "execution_count": null,
   "metadata": {
    "id": "sWBM9F4OtXjX"
   },
   "outputs": [],
   "source": [
    "pprint(eat[0])\n",
    "#pprint stands for 'pretty print'--it's not terribly pretty, \n",
    "#but nicer than if you do just a plain old print (try it out!)"
   ]
  },
  {
   "cell_type": "code",
   "execution_count": null,
   "metadata": {
    "id": "LwJ1W9g7tXjd"
   },
   "outputs": [],
   "source": [
    "#do your normal print command here to see the value of pprint.\n"
   ]
  },
  {
   "cell_type": "markdown",
   "metadata": {
    "id": "1WNqipLttXjl"
   },
   "source": [
    "We can now directly access the elements we are intereted in:"
   ]
  },
  {
   "cell_type": "code",
   "execution_count": null,
   "metadata": {
    "id": "kz-1ORvKtXjm"
   },
   "outputs": [],
   "source": [
    "eat[0]['details']['en']['title']"
   ]
  },
  {
   "cell_type": "code",
   "execution_count": null,
   "metadata": {
    "id": "gRj5WPOotXjr"
   },
   "outputs": [],
   "source": [
    "eat[0]['location']"
   ]
  },
  {
   "cell_type": "markdown",
   "metadata": {
    "id": "oIOm9vTMtXjx"
   },
   "source": [
    "We see that location is itself a dict with a number of key:value pairs. One of these is the zipcode.  So if we want specifically the zipcode for the first restaurant, we have to enter both levels, essentially telling python to call up the first dict, and then look within that one for the second."
   ]
  },
  {
   "cell_type": "code",
   "execution_count": null,
   "metadata": {
    "id": "h5XGC1pttXj0"
   },
   "outputs": [],
   "source": [
    "eat[0]['location']['zipcode']"
   ]
  },
  {
   "cell_type": "markdown",
   "metadata": {
    "id": "cQfbqL9ctXj5"
   },
   "source": [
    "Let's say I want to figure out where the most restaurants are, by area, within Amsterdam. But I don't want to do this one-by-one.\n",
    "\n",
    "Once we know what we want, we can replace our specific restaurant `eat[0]` by a generic `restaurant` within a *loop*."
   ]
  },
  {
   "cell_type": "code",
   "execution_count": null,
   "metadata": {
    "id": "FZoIrzl1tXj6"
   },
   "outputs": [],
   "source": [
    "# let's get all zipcodes\n",
    "#first, we make a blank list.\n",
    "zipcodes = []\n",
    "\n",
    "#then, we make a loop, pulling the zipcode of each restaurant, and add that to the list with \"append\" as a METHOD.\n",
    "for restaurant in eat:\n",
    "    zipcodes.append(restaurant['location']['zipcode'])\n",
    "    "
   ]
  },
  {
   "cell_type": "code",
   "execution_count": null,
   "metadata": {
    "id": "j3JMw-d5tXj9"
   },
   "outputs": [],
   "source": [
    "len(zipcodes)"
   ]
  },
  {
   "cell_type": "markdown",
   "metadata": {
    "id": "eIz8Gf-VtXkF"
   },
   "source": [
    "What do you think the purpose is of this previous step?\n",
    "\n",
    "\n",
    "Next, let's use a counter tool (something we imported above) to count the 20 most frequent zipcodes in this database. You could do 20, or 5, or 10, or 100 - whatever you want."
   ]
  },
  {
   "cell_type": "code",
   "execution_count": null,
   "metadata": {
    "id": "KU9NT5hNtXkG"
   },
   "outputs": [],
   "source": [
    "Counter(zipcodes).most_common(20)"
   ]
  },
  {
   "cell_type": "markdown",
   "metadata": {
    "id": "Q4JpFjRBtXkJ"
   },
   "source": [
    "For my little story, however, this data is too specific - the letters at the end of each zipcode make for too detailed a story.  There is a way to cut off the letters and just use the four numbers of each zipcode.  Again, here don't worry about knowing all this code, but, worry about understanding the logic here, and thinking how (eventually) you might want to apply it to your own datasets."
   ]
  },
  {
   "cell_type": "code",
   "execution_count": null,
   "metadata": {
    "id": "Q014vehYtXkK"
   },
   "outputs": [],
   "source": [
    "zipcodes_without_letters = [z[0:4] for z in zipcodes]\n",
    "Counter(zipcodes_without_letters).most_common(20)"
   ]
  },
  {
   "cell_type": "markdown",
   "metadata": {
    "id": "RqOM5TSgtXkS"
   },
   "source": [
    "## APIs\n",
    "\n",
    "Lastly, we will check out working with a JSON-based API. Some APIs that are very frequently used (e.g., the Twitter API) have an own Python *wrapper*, which means that you can do something like `import twitter` and have some user-friendly commands. Also, many APIs require authentication (i.e., sth like a username and a password).\n",
    "\n",
    "We do not want to require all of you to get such an account for the sole purpose of this meeting. We will therefore work with a public API provided by Statistics Netherlands (CBS): https://opendata.cbs.nl/.\n",
    "\n",
    "First, we go to https://opendata.cbs.nl/statline/portal.html?_la=en&_catalog=CBS and select a dataset. This kind of website is a great place to explore some potential datasets for your projects.  If you explore a bit, you'll see there are a ton of datasets and a ton of APIs, as well as raw JSON files for you to download and work with.  Take this illustration just as a way to use APIs if the raw data is not also available.\n",
    "\n",
    "If there is a specific URL we want to access (like this one we have chosen ahead of time), we can do so as follows:"
   ]
  },
  {
   "cell_type": "code",
   "execution_count": null,
   "metadata": {
    "id": "YwhSr1patXkS"
   },
   "outputs": [],
   "source": [
    "data = requests.get('https://opendata.cbs.nl/ODataApi/odata/37556eng/TypedDataSet').json()"
   ]
  },
  {
   "cell_type": "markdown",
   "metadata": {
    "id": "WiHXtoPxtXkX"
   },
   "source": [
    "Let's try some things out to make sense of this data:"
   ]
  },
  {
   "cell_type": "code",
   "execution_count": null,
   "metadata": {
    "id": "_2yp-obJtXkY"
   },
   "outputs": [],
   "source": [
    "pd.DataFrame(data)"
   ]
  },
  {
   "cell_type": "markdown",
   "metadata": {
    "id": "40b_jGAltXkc"
   },
   "source": [
    "What that showed us is that there are 119 rows, with 2 columns.  The first column seems only to be about metadata and URLs, which isn't very interesting.  The second column looks like a series of dicts that might be more interesting for us.  Let's confirm what these two columns are:"
   ]
  },
  {
   "cell_type": "code",
   "execution_count": null,
   "metadata": {
    "id": "GqWf0lvhtXkc"
   },
   "outputs": [],
   "source": [
    "data.keys()"
   ]
  },
  {
   "cell_type": "markdown",
   "metadata": {
    "id": "40rHZju8tXkf"
   },
   "source": [
    "Now let's focus only on the 'value' column, and make a new dataframe out of that."
   ]
  },
  {
   "cell_type": "code",
   "execution_count": null,
   "metadata": {
    "id": "ME5WLmsXtXkg"
   },
   "outputs": [],
   "source": [
    "df = pd.DataFrame(data['value'])"
   ]
  },
  {
   "cell_type": "code",
   "execution_count": null,
   "metadata": {
    "id": "Z1TykF77tXkm"
   },
   "outputs": [],
   "source": [
    "df"
   ]
  },
  {
   "cell_type": "markdown",
   "metadata": {
    "id": "M7jFB0FwtXkq"
   },
   "source": [
    "We can actually see that this is a list that works as a 'simple' dataframe--there are rows and columns, and it doesn't look like there is more nested info within here.\n",
    "\n",
    "But there are 199 columns!  How can we know what's in this dataset then?  We can create a list using the '.columns' property associated with a dataframe.  This allows us to transform the index into a list to see everything in it:"
   ]
  },
  {
   "cell_type": "code",
   "execution_count": null,
   "metadata": {
    "id": "_85GejhjtXkq"
   },
   "outputs": [],
   "source": [
    "list(df.columns)    "
   ]
  },
  {
   "cell_type": "code",
   "execution_count": null,
   "metadata": {
    "id": "87uvZlmwtXks"
   },
   "outputs": [],
   "source": [
    "#two other ways to tell us ABOUT the columns are this, but these abbreviate the list of columns so we can't read it.\n",
    "df.columns\n",
    "df.keys()"
   ]
  },
  {
   "cell_type": "code",
   "execution_count": null,
   "metadata": {
    "id": "KXVHK9CttXky"
   },
   "outputs": [],
   "source": [
    "# So let's choose one column specifically - 'Periods' and figure out more about it.\n",
    "# What do you think this represents?  What would we need to do to make sense of this/make it useful?\n",
    "df['Periods']"
   ]
  },
  {
   "cell_type": "code",
   "execution_count": null,
   "metadata": {
    "id": "s_IQvus_tXlN"
   },
   "outputs": [],
   "source": [
    "# It would be really nice if our row numbers ('index') wouldn't be a number between 0 and 118, would \n",
    "# correspond to this value of 'periods'.  But we need to clean up 'periods' to get just the first four characters\n",
    "# and to turn those from string (text) values into an integer (number). Here is the command - again, focus on \n",
    "# the logic, not the complexity of it.  '.map' is a command, and lamda is a function, and 'x' is an arbitrary label.\n",
    "df.index = df['Periods'].map(lambda x: int(x[:4]))"
   ]
  },
  {
   "cell_type": "code",
   "execution_count": null,
   "metadata": {
    "id": "Hzg99voJtXlR"
   },
   "outputs": [],
   "source": [
    "#Now let's check our work:\n",
    "df"
   ]
  },
  {
   "cell_type": "code",
   "execution_count": null,
   "metadata": {
    "id": "Nwia7AgvtXlX"
   },
   "outputs": [],
   "source": [
    "# Now we can plot it, using that same command we used above - plotting a specific value (column) by the index.\n",
    "# In this case, the index is now the year, which provides a nice little visualization.\n",
    "df['Marriages_170'].plot()"
   ]
  },
  {
   "cell_type": "markdown",
   "metadata": {
    "id": "_UFYNDedtXlf"
   },
   "source": [
    "## Play around - and some (non-graded) homework\n",
    "\n",
    "The most important thing is that you start playing around. You don't need to be able  to create beautiful plots or anything fancy, but try to get datasets into a usable format and get some insights!\n",
    "\n",
    "As an exercise after class, why don't you try the following:\n",
    "\n",
    "1. Find a webpage that has a table on it.\n",
    "2. Use the read_html scraper tool we learned above, to scrape the tables and save these to a csv file.\n",
    "3. Read the csv file back into python, and try to find some basic descriptive statistics (max, min, mean, etc) and if you can, make a simple visualization out of it (histogram or plot).\n",
    "4. Save all of this to a new notebook--code, notes if you have questions or about what you're doing, and output.\n",
    "\n",
    "If you can do all of these things, great! If you can't bring your questions to next class.\n"
   ]
  }
 ],
 "metadata": {
  "colab": {
   "name": "02-accessing_data-2019.ipynb",
   "provenance": []
  },
  "kernelspec": {
   "display_name": "Python 3",
   "language": "python",
   "name": "python3"
  },
  "language_info": {
   "codemirror_mode": {
    "name": "ipython",
    "version": 3
   },
   "file_extension": ".py",
   "mimetype": "text/x-python",
   "name": "python",
   "nbconvert_exporter": "python",
   "pygments_lexer": "ipython3",
   "version": "3.7.11"
  }
 },
 "nbformat": 4,
 "nbformat_minor": 4
}
